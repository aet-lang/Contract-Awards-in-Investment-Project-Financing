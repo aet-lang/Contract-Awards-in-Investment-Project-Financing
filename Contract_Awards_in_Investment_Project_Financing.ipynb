{
  "cells": [
    {
      "cell_type": "markdown",
      "metadata": {
        "id": "view-in-github",
        "colab_type": "text"
      },
      "source": [
        "<a href=\"https://colab.research.google.com/github/aet-lang/Contract-Awards-in-Investment-Project-Financing/blob/main/Contract_Awards_in_Investment_Project_Financing.ipynb\" target=\"_parent\"><img src=\"https://colab.research.google.com/assets/colab-badge.svg\" alt=\"Open In Colab\"/></a>"
      ]
    },
    {
      "cell_type": "markdown",
      "id": "ccef46b4-a468-460f-a41f-5cdbc4c6c933",
      "metadata": {
        "id": "ccef46b4-a468-460f-a41f-5cdbc4c6c933"
      },
      "source": [
        "## Import all necessary libraries"
      ]
    },
    {
      "cell_type": "code",
      "execution_count": null,
      "id": "ad47ee26-ffd3-4ff3-b897-f40496786125",
      "metadata": {
        "id": "ad47ee26-ffd3-4ff3-b897-f40496786125"
      },
      "outputs": [],
      "source": [
        "import pandas as pd\n",
        "import numpy as np\n",
        "import matplotlib.pyplot as plt\n",
        "import seaborn as sns\n",
        "\n",
        "from sklearn.model_selection import train_test_split, cross_val_score, learning_curve, GridSearchCV\n",
        "from sklearn.preprocessing import LabelEncoder, StandardScaler\n",
        "from sklearn.linear_model import LinearRegression\n",
        "from sklearn.ensemble import RandomForestRegressor, GradientBoostingRegressor\n",
        "from sklearn.metrics import mean_squared_error, mean_absolute_error, r2_score\n",
        "from xgboost import XGBRegressor\n",
        "from tabulate import tabulate"
      ]
    },
    {
      "cell_type": "markdown",
      "id": "c39733d8-4e38-49df-985f-5004d38c6548",
      "metadata": {
        "id": "c39733d8-4e38-49df-985f-5004d38c6548"
      },
      "source": [
        "## Load the dataset"
      ]
    },
    {
      "cell_type": "code",
      "execution_count": null,
      "id": "f94af7fa-dd31-4600-a6bb-6eb5a5f16b6b",
      "metadata": {
        "id": "f94af7fa-dd31-4600-a6bb-6eb5a5f16b6b"
      },
      "outputs": [],
      "source": [
        "!pip install -q gdown\n",
        "\n",
        "import gdown\n",
        "\n",
        "file_id = \"1N6_PBk1T2PvhaATWsSHb9-vJYEnPcOlM\"\n",
        "url = f\"https://drive.google.com/uc?id={file_id}\"\n",
        "\n",
        "gdown.download(url, \"contract_data.csv\", quiet=False)\n",
        "\n",
        "df = pd.read_csv(\"contract_data.csv\")\n",
        "df.head()"
      ]
    },
    {
      "cell_type": "markdown",
      "id": "54989fe2-4c9a-4b57-9899-66495bbb9ae0",
      "metadata": {
        "id": "54989fe2-4c9a-4b57-9899-66495bbb9ae0"
      },
      "source": [
        "## Dataset information"
      ]
    },
    {
      "cell_type": "code",
      "execution_count": null,
      "id": "3ea01fbc-e6b5-4564-8ba5-a044833669ea",
      "metadata": {
        "id": "3ea01fbc-e6b5-4564-8ba5-a044833669ea"
      },
      "outputs": [],
      "source": [
        "df.info()"
      ]
    },
    {
      "cell_type": "markdown",
      "id": "8050edbb-3255-40b4-916c-ab7edb901b7c",
      "metadata": {
        "id": "8050edbb-3255-40b4-916c-ab7edb901b7c"
      },
      "source": [
        "## Drop duplicates"
      ]
    },
    {
      "cell_type": "code",
      "execution_count": null,
      "id": "590d53db-a371-4a9e-a582-339c6fe0d62d",
      "metadata": {
        "id": "590d53db-a371-4a9e-a582-339c6fe0d62d"
      },
      "outputs": [],
      "source": [
        "df.drop_duplicates(inplace=True)"
      ]
    },
    {
      "cell_type": "markdown",
      "id": "76a72b2a-5c1b-49f1-b93e-4e64759422db",
      "metadata": {
        "id": "76a72b2a-5c1b-49f1-b93e-4e64759422db"
      },
      "source": [
        "## Fill all missing values"
      ]
    },
    {
      "cell_type": "code",
      "execution_count": null,
      "id": "31999918-c71a-4aa2-b5b9-5e1fa5f7671c",
      "metadata": {
        "id": "31999918-c71a-4aa2-b5b9-5e1fa5f7671c"
      },
      "outputs": [],
      "source": [
        "for col in df.columns:\n",
        "    if df[col].dtype == 'object':\n",
        "        df[col] = df[col].fillna(df[col].mode()[0])\n",
        "    else:\n",
        "        df[col] = df[col].fillna(df[col].median())"
      ]
    },
    {
      "cell_type": "markdown",
      "id": "de744be5-ddaa-4fc0-a6ff-e225c09e18b1",
      "metadata": {
        "jp-MarkdownHeadingCollapsed": true,
        "id": "de744be5-ddaa-4fc0-a6ff-e225c09e18b1"
      },
      "source": [
        "## Visualize missing data"
      ]
    },
    {
      "cell_type": "code",
      "execution_count": null,
      "id": "e4f70361-9ec6-4d02-a831-e86733bbb686",
      "metadata": {
        "id": "e4f70361-9ec6-4d02-a831-e86733bbb686"
      },
      "outputs": [],
      "source": [
        "plt.figure(figsize=(12,6))\n",
        "sns.heatmap(df.isnull(), cbar=False, cmap=\"viridis\")\n",
        "plt.title(\"Missing Values in Dataset\")\n",
        "plt.show()"
      ]
    },
    {
      "cell_type": "markdown",
      "id": "ef61050f-d007-40d0-8d6c-9390f831937d",
      "metadata": {
        "id": "ef61050f-d007-40d0-8d6c-9390f831937d"
      },
      "source": [
        "### Convert date columns"
      ]
    },
    {
      "cell_type": "code",
      "execution_count": null,
      "id": "fbcf9b9e-ec0a-40d9-86a2-8fff2598420c",
      "metadata": {
        "id": "fbcf9b9e-ec0a-40d9-86a2-8fff2598420c"
      },
      "outputs": [],
      "source": [
        "df[\"As of Date\"] = pd.to_datetime(df[\"As of Date\"])\n",
        "df[\"Contract Signing Date\"] = pd.to_datetime(df[\"Contract Signing Date\"])"
      ]
    },
    {
      "cell_type": "markdown",
      "id": "87b16490-5401-4b49-ab94-4e47967a5810",
      "metadata": {
        "id": "87b16490-5401-4b49-ab94-4e47967a5810"
      },
      "source": [
        "### Target Distribution"
      ]
    },
    {
      "cell_type": "code",
      "execution_count": null,
      "id": "967754a7-09b8-4825-b002-713fbba7976b",
      "metadata": {
        "id": "967754a7-09b8-4825-b002-713fbba7976b"
      },
      "outputs": [],
      "source": [
        "target_col = \"Supplier Contract Amount (USD)\"\n",
        "if target_col not in df.columns:\n",
        "    raise ValueError(f\"Target column '{target_col}' not found. Available columns: {df.columns.tolist()}\")\n",
        "\n",
        "plt.figure(figsize=(10, 5))\n",
        "sns.histplot(df[target_col], bins=50, kde=True, color='blue')\n",
        "plt.title(\"Distribution of Supplier Contract Amount (Before Outlier Removal)\")\n",
        "plt.xlabel(\"Supplier Contract Amount (USD)\")\n",
        "plt.ylabel(\"Frequency\")\n",
        "plt.show()"
      ]
    },
    {
      "cell_type": "markdown",
      "id": "ba63dac3-0bad-4c55-8c53-076a4435c1b5",
      "metadata": {
        "id": "ba63dac3-0bad-4c55-8c53-076a4435c1b5"
      },
      "source": [
        "## Boxplot of target"
      ]
    },
    {
      "cell_type": "code",
      "execution_count": null,
      "id": "747c3b54-df63-42fe-8cfc-e1d06eb83799",
      "metadata": {
        "id": "747c3b54-df63-42fe-8cfc-e1d06eb83799"
      },
      "outputs": [],
      "source": [
        "plt.figure(figsize=(8,4))\n",
        "sns.boxplot(x=df[\"Supplier Contract Amount (USD)\"])\n",
        "plt.title(\"Boxplot of Supplier Contract Amount \")\n",
        "plt.show()"
      ]
    },
    {
      "cell_type": "markdown",
      "id": "fe053e91-baf4-4b5c-b034-2ba7bb2d27b1",
      "metadata": {
        "id": "fe053e91-baf4-4b5c-b034-2ba7bb2d27b1"
      },
      "source": [
        "### Encode Categorical Columns\n"
      ]
    },
    {
      "cell_type": "code",
      "execution_count": null,
      "id": "6998bc0a-1145-4f05-9e12-e48924163327",
      "metadata": {
        "id": "6998bc0a-1145-4f05-9e12-e48924163327"
      },
      "outputs": [],
      "source": [
        "label_encoders = {}\n",
        "for col in df.select_dtypes(include='object').columns:\n",
        "    le = LabelEncoder()\n",
        "    df[col] = le.fit_transform(df[col])\n",
        "    label_encoders[col] = le"
      ]
    },
    {
      "cell_type": "markdown",
      "id": "410b2da6-4c0a-4d37-b1c5-e67c998e43f0",
      "metadata": {
        "id": "410b2da6-4c0a-4d37-b1c5-e67c998e43f0"
      },
      "source": [
        "### Target Separation\n"
      ]
    },
    {
      "cell_type": "code",
      "execution_count": null,
      "id": "f8b90560-b5ff-4b25-931d-8611e4103d29",
      "metadata": {
        "id": "f8b90560-b5ff-4b25-931d-8611e4103d29"
      },
      "outputs": [],
      "source": [
        "target_col = \"Supplier Contract Amount (USD)\"\n",
        "if target_col not in df.columns:\n",
        "    raise ValueError(f\"Target column '{target_col}' not found. Available columns: {df.columns.tolist()}\")"
      ]
    },
    {
      "cell_type": "markdown",
      "id": "d0cea545-168b-4baf-82af-7077ffd4d6e9",
      "metadata": {
        "id": "d0cea545-168b-4baf-82af-7077ffd4d6e9"
      },
      "source": [
        "### Distribution of Target"
      ]
    },
    {
      "cell_type": "code",
      "execution_count": null,
      "id": "b220c984-d491-4d2a-858b-4ffb8169e6bd",
      "metadata": {
        "id": "b220c984-d491-4d2a-858b-4ffb8169e6bd"
      },
      "outputs": [],
      "source": [
        "plt.figure(figsize=(10, 5))\n",
        "sns.histplot(df[target_col], bins=50, kde=True, color='blue')\n",
        "plt.title(\"Distribution of Supplier Contract Amount (Before Outlier Removal)\")\n",
        "plt.xlabel(\"Supplier Contract Amount (USD)\")\n",
        "plt.ylabel(\"Frequency\")\n",
        "plt.show()"
      ]
    },
    {
      "cell_type": "markdown",
      "id": "a984b24f-6dda-4a9e-b1a5-a2284df39b45",
      "metadata": {
        "id": "a984b24f-6dda-4a9e-b1a5-a2284df39b45"
      },
      "source": [
        "### Outlier removal"
      ]
    },
    {
      "cell_type": "code",
      "execution_count": null,
      "id": "901d28ea-58a4-44e5-a0dc-8e74da828873",
      "metadata": {
        "id": "901d28ea-58a4-44e5-a0dc-8e74da828873"
      },
      "outputs": [],
      "source": [
        "Q1 = df[target_col].quantile(0.25)\n",
        "Q3 = df[target_col].quantile(0.75)\n",
        "IQR = Q3 - Q1\n",
        "filtered_df = df[(df[target_col] >= Q1 - 1.5 * IQR) & (df[target_col] <= Q3 + 1.5 * IQR)].copy()\n",
        "\n"
      ]
    },
    {
      "cell_type": "markdown",
      "id": "5d80874f-5449-44a1-97d1-19d44201ec59",
      "metadata": {
        "id": "5d80874f-5449-44a1-97d1-19d44201ec59"
      },
      "source": [
        "### Label Encode"
      ]
    },
    {
      "cell_type": "code",
      "execution_count": null,
      "id": "fc715a9c-f373-492b-8620-0c1781f9954b",
      "metadata": {
        "id": "fc715a9c-f373-492b-8620-0c1781f9954b"
      },
      "outputs": [],
      "source": [
        "label_encoders = {}\n",
        "for col in filtered_df.select_dtypes(include='object').columns:\n",
        "    le = LabelEncoder()\n",
        "    filtered_df[col] = le.fit_transform(filtered_df[col].astype(str))\n",
        "    label_encoders[col] = le\n"
      ]
    },
    {
      "cell_type": "markdown",
      "id": "e2532565-a3be-4299-84c0-8d82b44495cb",
      "metadata": {
        "id": "e2532565-a3be-4299-84c0-8d82b44495cb"
      },
      "source": [
        "\n",
        "### Prepare Features and Labels"
      ]
    },
    {
      "cell_type": "code",
      "execution_count": null,
      "id": "97fb478c-65b0-4861-96a4-33e2cdbbdc1c",
      "metadata": {
        "id": "97fb478c-65b0-4861-96a4-33e2cdbbdc1c"
      },
      "outputs": [],
      "source": [
        "X = filtered_df.drop(columns=[target_col, \"As of Date\", \"Contract Signing Date\"])\n",
        "y = filtered_df[target_col]"
      ]
    },
    {
      "cell_type": "markdown",
      "id": "c4798384-9966-4c53-a988-183d12bf61a4",
      "metadata": {
        "id": "c4798384-9966-4c53-a988-183d12bf61a4"
      },
      "source": [
        "### Feature Scaling"
      ]
    },
    {
      "cell_type": "code",
      "execution_count": null,
      "id": "1b0e61e1-4cc9-467b-9bd3-4b08f9fd517e",
      "metadata": {
        "id": "1b0e61e1-4cc9-467b-9bd3-4b08f9fd517e"
      },
      "outputs": [],
      "source": [
        "\n",
        "scaler = StandardScaler()\n",
        "X_scaled = scaler.fit_transform(X)"
      ]
    },
    {
      "cell_type": "markdown",
      "id": "e469bd1f-990a-4e35-9d9b-d1fda9b0169f",
      "metadata": {
        "id": "e469bd1f-990a-4e35-9d9b-d1fda9b0169f"
      },
      "source": [
        "### Train-Test Split"
      ]
    },
    {
      "cell_type": "code",
      "execution_count": null,
      "id": "1c5a3ed3-56c3-45f6-aff2-264905dc4d7c",
      "metadata": {
        "id": "1c5a3ed3-56c3-45f6-aff2-264905dc4d7c"
      },
      "outputs": [],
      "source": [
        "X_train, X_test, y_train, y_test = train_test_split(\n",
        "    X_scaled, y, test_size=0.2, random_state=42\n",
        ")"
      ]
    },
    {
      "cell_type": "markdown",
      "id": "20aea94c-e76b-450b-bc79-3a75fd3f6db3",
      "metadata": {
        "id": "20aea94c-e76b-450b-bc79-3a75fd3f6db3"
      },
      "source": [
        "### Helper Function for Model Evaluation"
      ]
    },
    {
      "cell_type": "code",
      "execution_count": null,
      "id": "90e04f27-defc-47e0-86ae-779aad80bd84",
      "metadata": {
        "id": "90e04f27-defc-47e0-86ae-779aad80bd84"
      },
      "outputs": [],
      "source": [
        "results = []\n",
        "\n",
        "def evaluate_model(name, model, X_train, y_train, X_test, y_test):\n",
        "    model.fit(X_train, y_train)\n",
        "    y_pred = model.predict(X_test)\n",
        "    mae = mean_absolute_error(y_test, y_pred)\n",
        "    mse = mean_squared_error(y_test, y_pred)\n",
        "    r2 = r2_score(y_test, y_pred)\n",
        "    results.append({\"name\": name, \"mae\": mae, \"mse\": mse, \"r2\": r2})\n",
        "    print(f\"\\n🔹 {name} Performance:\")\n",
        "    print(f\"MAE: {mae:.4f}, MSE: {mse:.4f}, R²: {r2:.4f}\")\n",
        "    return model"
      ]
    },
    {
      "cell_type": "markdown",
      "id": "95cd48e8-1393-470b-9341-5d54c20e1d34",
      "metadata": {
        "id": "95cd48e8-1393-470b-9341-5d54c20e1d34"
      },
      "source": [
        "### Train Baseline Models\n"
      ]
    },
    {
      "cell_type": "code",
      "execution_count": null,
      "id": "b3edb30c-0419-4449-bf9b-207bb305fdbb",
      "metadata": {
        "id": "b3edb30c-0419-4449-bf9b-207bb305fdbb"
      },
      "outputs": [],
      "source": [
        "lr_model = evaluate_model(\"Linear Regression\", LinearRegression(), X_train, y_train, X_test, y_test)\n",
        "rf_model = evaluate_model(\"Random Forest\", RandomForestRegressor(n_estimators=100, random_state=42), X_train, y_train, X_test, y_test)\n",
        "gb_model = evaluate_model(\"Gradient Boosting\", GradientBoostingRegressor(random_state=42), X_train, y_train, X_test, y_test)\n",
        "xgb_model = evaluate_model(\"XGBoost\", XGBRegressor(random_state=42, objective='reg:squarederror'), X_train, y_train, X_test, y_test)\n"
      ]
    },
    {
      "cell_type": "markdown",
      "id": "ef9190f7-cdbe-4958-a311-569444bc86e5",
      "metadata": {
        "id": "ef9190f7-cdbe-4958-a311-569444bc86e5"
      },
      "source": [
        "### Cross-validation scores"
      ]
    },
    {
      "cell_type": "code",
      "execution_count": null,
      "id": "022a78c3-96d5-42a0-8194-d93f516b2a45",
      "metadata": {
        "id": "022a78c3-96d5-42a0-8194-d93f516b2a45"
      },
      "outputs": [],
      "source": [
        "def cross_validate_model(model, name):\n",
        "    scores = cross_val_score(model, X_scaled, y, scoring='r2', cv=5)\n",
        "    print(f\"\\n{name} CV R² Scores: {scores}\")\n",
        "    print(f\"Mean R²: {scores.mean():.4f}, Std: {scores.std():.4f}\")\n",
        "\n",
        "cross_validate_model(lr_model, \"Linear Regression\")\n",
        "cross_validate_model(rf_model, \"Random Forest\")\n",
        "cross_validate_model(gb_model, \"Gradient Boosting\")\n",
        "cross_validate_model(xgb_model, \"XGBoost\")"
      ]
    },
    {
      "cell_type": "markdown",
      "id": "58b611f2-a644-4548-995e-350b64068b83",
      "metadata": {
        "id": "58b611f2-a644-4548-995e-350b64068b83"
      },
      "source": [
        "### Hyperparameter Tuning"
      ]
    },
    {
      "cell_type": "code",
      "execution_count": null,
      "id": "9d4d0832-38b9-43f0-8737-d19642ccc6af",
      "metadata": {
        "id": "9d4d0832-38b9-43f0-8737-d19642ccc6af"
      },
      "outputs": [],
      "source": [
        "# Random Forest\n",
        "rf_param_grid = {\n",
        "    'n_estimators': [100, 200],\n",
        "    'max_depth': [None, 10, 20],\n",
        "    'min_samples_split': [2, 5]\n",
        "}\n",
        "rf_grid = GridSearchCV(RandomForestRegressor(random_state=42), rf_param_grid, cv=3, scoring='r2', n_jobs=-1)\n",
        "rf_grid.fit(X_train, y_train)\n",
        "print(\"\\nBest RF Params:\", rf_grid.best_params_)\n",
        "evaluate_model(\"Random Forest (Tuned)\", rf_grid.best_estimator_, X_train, y_train, X_test, y_test)\n",
        "\n",
        "# Gradient Boosting\n",
        "gb_param_grid = {\n",
        "    'n_estimators': [100, 200],\n",
        "    'learning_rate': [0.01, 0.05, 0.1],\n",
        "    'max_depth': [3, 5]\n",
        "}\n",
        "gb_grid = GridSearchCV(GradientBoostingRegressor(random_state=42), gb_param_grid, cv=3, scoring='r2', n_jobs=-1)\n",
        "gb_grid.fit(X_train, y_train)\n",
        "print(\"\\nBest GB Params:\", gb_grid.best_params_)\n",
        "evaluate_model(\"Gradient Boosting (Tuned)\", gb_grid.best_estimator_, X_train, y_train, X_test, y_test)\n",
        "\n",
        "# XGBoost\n",
        "xgb_param_grid = {\n",
        "    'n_estimators': [100, 200],\n",
        "    'learning_rate': [0.01, 0.05, 0.1],\n",
        "    'max_depth': [3, 5, 7],\n",
        "    'subsample': [0.8, 1],\n",
        "    'colsample_bytree': [0.8, 1]\n",
        "}\n",
        "xgb_grid = GridSearchCV(XGBRegressor(random_state=42, objective='reg:squarederror', n_jobs=-1),\n",
        "                        xgb_param_grid, cv=3, scoring='r2', n_jobs=-1)\n",
        "xgb_grid.fit(X_train, y_train)\n",
        "print(\"\\nBest XGB Params:\", xgb_grid.best_params_)\n",
        "evaluate_model(\"XGBoost (Tuned)\", xgb_grid.best_estimator_, X_train, y_train, X_test, y_test)\n"
      ]
    },
    {
      "cell_type": "markdown",
      "id": "6fff30cf-77bd-45bc-a399-1a57178a4aa8",
      "metadata": {
        "id": "6fff30cf-77bd-45bc-a399-1a57178a4aa8"
      },
      "source": [
        "### Final Summary Table"
      ]
    },
    {
      "cell_type": "code",
      "source": [
        "final_results = []\n",
        "for res in results:\n",
        "    final_results.append([res['name'], res['mae'], res['mse'], res['r2']])\n",
        "\n",
        "headers = [\"Model\", \"MAE\", \"MSE\", \"R²\"]\n",
        "print(\"\\n Final Model Comparison:\")\n",
        "print(tabulate(final_results, headers=headers, floatfmt=\".4f\"))"
      ],
      "metadata": {
        "id": "n7NyUKW2WCiU"
      },
      "id": "n7NyUKW2WCiU",
      "execution_count": null,
      "outputs": []
    },
    {
      "cell_type": "code",
      "source": [],
      "metadata": {
        "id": "TVITNpANwh71"
      },
      "id": "TVITNpANwh71",
      "execution_count": null,
      "outputs": []
    }
  ],
  "metadata": {
    "kernelspec": {
      "display_name": "Python [conda env:base] *",
      "language": "python",
      "name": "conda-base-py"
    },
    "language_info": {
      "codemirror_mode": {
        "name": "ipython",
        "version": 3
      },
      "file_extension": ".py",
      "mimetype": "text/x-python",
      "name": "python",
      "nbconvert_exporter": "python",
      "pygments_lexer": "ipython3",
      "version": "3.12.7"
    },
    "colab": {
      "provenance": [],
      "include_colab_link": true
    }
  },
  "nbformat": 4,
  "nbformat_minor": 5
}